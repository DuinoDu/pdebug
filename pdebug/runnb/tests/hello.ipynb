{
 "cells": [
  {
   "cell_type": "markdown",
   "id": "eb1cb7f2",
   "metadata": {},
   "source": [
    "# Test notebook\n",
    "\n",
    "This is a test notebook."
   ]
  },
  {
   "cell_type": "markdown",
   "id": "da9fa9dd",
   "metadata": {},
   "source": [
    "## Explore data\n",
    "\n",
    "Below code including markdown will be ignore by `runnb`."
   ]
  },
  {
   "cell_type": "code",
   "execution_count": null,
   "id": "42cd23f9",
   "metadata": {},
   "outputs": [],
   "source": [
    "skip_str = \"explore data\"\n",
    "print(skip_str)"
   ]
  },
  {
   "cell_type": "markdown",
   "id": "9b4053e4",
   "metadata": {},
   "source": [
    "## Dataset"
   ]
  },
  {
   "cell_type": "code",
   "execution_count": null,
   "id": "402a608c",
   "metadata": {},
   "outputs": [],
   "source": [
    "class Dataset:\n",
    "    def __init__(self, root):\n",
    "        self.root = root\n",
    "    \n",
    "    def __getitem__(self, i):\n",
    "        return self.root\n",
    "    \n",
    "    def __len__(self):\n",
    "        return 1\n",
    "\n",
    "\n",
    "def test_Dataset():\n",
    "    dataset = Dataset(\"/home/user\")\n",
    "    assert len(dataset) == 1\n",
    "    assert dataset[0] == \"/home/user\""
   ]
  },
  {
   "cell_type": "code",
   "execution_count": null,
   "id": "5bda5c42",
   "metadata": {},
   "outputs": [],
   "source": [
    "def test_another():\n",
    "    assert True"
   ]
  },
  {
   "cell_type": "markdown",
   "id": "4959af89",
   "metadata": {},
   "source": [
    "## Training"
   ]
  },
  {
   "cell_type": "code",
   "execution_count": null,
   "id": "df791fe1",
   "metadata": {},
   "outputs": [],
   "source": [
    "def hello():\n",
    "    print(\"Hello, runnb!\")"
   ]
  },
  {
   "cell_type": "code",
   "execution_count": null,
   "id": "fd484c9b",
   "metadata": {},
   "outputs": [],
   "source": [
    "# skip\n",
    "a = \"you will skip me\"\n",
    "print(a)"
   ]
  }
 ],
 "metadata": {
  "kernelspec": {
   "display_name": "Python 3 (ipykernel)",
   "language": "python",
   "name": "python3"
  }
 },
 "nbformat": 4,
 "nbformat_minor": 5
}
